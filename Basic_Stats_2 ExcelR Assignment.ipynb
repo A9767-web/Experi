{
 "cells": [
  {
   "cell_type": "markdown",
   "id": "0ce46e7f",
   "metadata": {},
   "source": [
    "# Given Data\n",
    "\n",
    "A total of 15 print-heads were randomly selected and tested until failure. The durability of each print-head(in millions of characters) was recorded as follows:\n",
    "1.13, 1.55, 1.43, 0.92, 1.25, 1.36, 1.32, 0.85, 1.07, 1.48, 1.20, 1.33, 1.18, 1.22, 1.29\n",
    "\n"
   ]
  },
  {
   "cell_type": "markdown",
   "id": "03823c64",
   "metadata": {},
   "source": [
    "#  Converting the given data into tabular form"
   ]
  },
  {
   "cell_type": "code",
   "execution_count": 1,
   "id": "040edef9",
   "metadata": {},
   "outputs": [],
   "source": [
    "import pandas as pd\n",
    "import numpy as np\n"
   ]
  },
  {
   "cell_type": "code",
   "execution_count": 8,
   "id": "8d42ee56",
   "metadata": {},
   "outputs": [],
   "source": [
    "data = {\"Durability_of_Printer_Heads \": [1.13, 1.55, 1.43, 0.92, 1.25, 1.36, 1.32, 0.85, 1.07, 1.48, 1.20, 1.33, 1.18, 1.22, 1.29]}"
   ]
  },
  {
   "cell_type": "code",
   "execution_count": 9,
   "id": "a0d6deea",
   "metadata": {},
   "outputs": [],
   "source": [
    "df= pd.DataFrame(data)"
   ]
  },
  {
   "cell_type": "code",
   "execution_count": 10,
   "id": "9735a4a6",
   "metadata": {},
   "outputs": [
    {
     "data": {
      "text/html": [
       "<div>\n",
       "<style scoped>\n",
       "    .dataframe tbody tr th:only-of-type {\n",
       "        vertical-align: middle;\n",
       "    }\n",
       "\n",
       "    .dataframe tbody tr th {\n",
       "        vertical-align: top;\n",
       "    }\n",
       "\n",
       "    .dataframe thead th {\n",
       "        text-align: right;\n",
       "    }\n",
       "</style>\n",
       "<table border=\"1\" class=\"dataframe\">\n",
       "  <thead>\n",
       "    <tr style=\"text-align: right;\">\n",
       "      <th></th>\n",
       "      <th>Durability_of_Printer_Heads</th>\n",
       "    </tr>\n",
       "  </thead>\n",
       "  <tbody>\n",
       "    <tr>\n",
       "      <th>0</th>\n",
       "      <td>1.13</td>\n",
       "    </tr>\n",
       "    <tr>\n",
       "      <th>1</th>\n",
       "      <td>1.55</td>\n",
       "    </tr>\n",
       "    <tr>\n",
       "      <th>2</th>\n",
       "      <td>1.43</td>\n",
       "    </tr>\n",
       "    <tr>\n",
       "      <th>3</th>\n",
       "      <td>0.92</td>\n",
       "    </tr>\n",
       "    <tr>\n",
       "      <th>4</th>\n",
       "      <td>1.25</td>\n",
       "    </tr>\n",
       "  </tbody>\n",
       "</table>\n",
       "</div>"
      ],
      "text/plain": [
       "   Durability_of_Printer_Heads \n",
       "0                          1.13\n",
       "1                          1.55\n",
       "2                          1.43\n",
       "3                          0.92\n",
       "4                          1.25"
      ]
     },
     "execution_count": 10,
     "metadata": {},
     "output_type": "execute_result"
    }
   ],
   "source": [
    "df.head()"
   ]
  },
  {
   "cell_type": "markdown",
   "id": "3f8b50ce",
   "metadata": {},
   "source": [
    "# Assignment Task -1\n",
    "\n",
    "Build 99% confidence interval using sample standard deviation assuming the sample is representative of the population, construct a 99% confidence interval for the mean number of characters printed before the print-head fails using the sample standard deviation. Explain the steps you take and the rationale behind using the t-distribution for this task."
   ]
  },
  {
   "cell_type": "markdown",
   "id": "0efe40c1",
   "metadata": {},
   "source": [
    "# Solution\n",
    "The formula for calculating Confidence Interval we need standard deviation of an Dataset. But here we don't have enough data so we are gonna calculate standard deviation (sample standard deviation) of the sample dataset that we have and we are gonna use that sample standard deviation in our Confidence Interval Formula.\n",
    "\n",
    "Confidence Interval (CI) = X_mean (+ -)Z * S/sqrt(n)\n",
    "Here X_mean = Mean of the values\n",
    "Z = Confidence Value\n",
    "S = Standard Deviation\n",
    "n = No. Of Values Taken(Sample Size)\n",
    "The summation will calculate the upper range and the substraction will calculate the lower range But in this case the sample size is very small and the standard deviation is unknown . The sample size should always be around minimum 30. So here Z will be replaced by t-score\n",
    "So here CI = X_mean (+ -)t-score * S/sqrt(n)\n",
    "T-score Used when the sample size is small and the population standard deviation is estimated from the data. T-scores are larger for smaller samples, resulting in wider confidence intervals and larger margins of error.\n",
    "Z-score Used when the sample size is large and the population standard deviation is knownown"
   ]
  },
  {
   "cell_type": "code",
   "execution_count": 11,
   "id": "fb24a5c1",
   "metadata": {},
   "outputs": [
    {
     "name": "stderr",
     "output_type": "stream",
     "text": [
      "C:\\Users\\DELL\\anaconda3\\lib\\site-packages\\numpy\\core\\fromnumeric.py:3438: FutureWarning: In a future version, DataFrame.mean(axis=None) will return a scalar mean over the entire DataFrame. To retain the old behavior, use 'frame.mean(axis=0)' or just 'frame.mean()'\n",
      "  return mean(axis=axis, dtype=dtype, out=out, **kwargs)\n"
     ]
    },
    {
     "data": {
      "text/plain": [
       "Durability_of_Printer_Heads     1.238667\n",
       "dtype: float64"
      ]
     },
     "execution_count": 11,
     "metadata": {},
     "output_type": "execute_result"
    }
   ],
   "source": [
    "mean = np.mean(df)\n",
    "x_mean = mean\n",
    "x_mean"
   ]
  },
  {
   "cell_type": "code",
   "execution_count": 18,
   "id": "9929cb66",
   "metadata": {},
   "outputs": [
    {
     "data": {
      "text/plain": [
       "0.18661427836285438"
      ]
     },
     "execution_count": 18,
     "metadata": {},
     "output_type": "execute_result"
    }
   ],
   "source": [
    "S = np.std(df['Durability_of_Printer_Heads ']) #standard deviation\n",
    "S\n"
   ]
  },
  {
   "cell_type": "code",
   "execution_count": 19,
   "id": "05205c6e",
   "metadata": {},
   "outputs": [
    {
     "data": {
      "text/plain": [
       "15"
      ]
     },
     "execution_count": 19,
     "metadata": {},
     "output_type": "execute_result"
    }
   ],
   "source": [
    "sample_size = len(df)\n",
    "n = sample_size\n",
    "n"
   ]
  },
  {
   "cell_type": "code",
   "execution_count": 20,
   "id": "f8b31f67",
   "metadata": {},
   "outputs": [],
   "source": [
    "from scipy import stats"
   ]
  },
  {
   "cell_type": "code",
   "execution_count": 22,
   "id": "3cee86f8",
   "metadata": {},
   "outputs": [
    {
     "name": "stdout",
     "output_type": "stream",
     "text": [
      "14 , 0.99\n"
     ]
    }
   ],
   "source": [
    "degree_of_freedom = n-1\n",
    "confidence_level = 0.99\n",
    "print(degree_of_freedom,',',confidence_level)"
   ]
  },
  {
   "cell_type": "code",
   "execution_count": 23,
   "id": "8b0633ba",
   "metadata": {},
   "outputs": [
    {
     "data": {
      "text/plain": [
       "2.97684273411266"
      ]
     },
     "execution_count": 23,
     "metadata": {},
     "output_type": "execute_result"
    }
   ],
   "source": [
    "t_score = stats.t.ppf(1-(1-confidence_level)/2, degree_of_freedom)\n",
    "t_score"
   ]
  },
  {
   "cell_type": "code",
   "execution_count": 24,
   "id": "577b1427",
   "metadata": {},
   "outputs": [],
   "source": [
    "CI_upper = x_mean + (t_score * S/np.sqrt(n))\n",
    "CI_lower = x_mean - (t_score * S/np.sqrt(n))"
   ]
  },
  {
   "cell_type": "code",
   "execution_count": 28,
   "id": "a3c372f4",
   "metadata": {},
   "outputs": [
    {
     "name": "stdout",
     "output_type": "stream",
     "text": [
      "So the Confidence Interval is : Durability_of_Printer_Heads     1.095232\n",
      "dtype: float64 to Durability_of_Printer_Heads     1.382102\n",
      "dtype: float64\n"
     ]
    }
   ],
   "source": [
    "print(f'So the Confidence Interval is : {CI_lower} to {CI_upper}') "
   ]
  },
  {
   "cell_type": "markdown",
   "id": "1ed9a8d6",
   "metadata": {},
   "source": [
    "# Assignment Task - 2\n",
    "Build 99% Confidence Interval using known Population Standard Deviation. If it were known that the population standard deviation is 0.2 million characters, construst a 99% confidence interval for the mean number of characters printed before failure"
   ]
  },
  {
   "cell_type": "markdown",
   "id": "1c0d3b59",
   "metadata": {},
   "source": [
    "#  Solution\n",
    " \n",
    " Here Z-score(Z) will be used"
   ]
  },
  {
   "cell_type": "code",
   "execution_count": 29,
   "id": "0576d554",
   "metadata": {},
   "outputs": [],
   "source": [
    "s = 0.2 #population standard deviation (given)"
   ]
  },
  {
   "cell_type": "markdown",
   "id": "6b63250a",
   "metadata": {},
   "source": [
    "ConfidenceInterval -> Z\n",
    "\n",
    "ConfidenceInterval = 95% -> Z = 1.960\n",
    "ConfidenceInterval = 99% -> Z = 2.576\n",
    "ConfidenceInterval = 99.5% -> Z = 2.807\n",
    "ConfidenceInterval = 99.9% -> Z = 3.291"
   ]
  },
  {
   "cell_type": "code",
   "execution_count": 30,
   "id": "241b9104",
   "metadata": {},
   "outputs": [],
   "source": [
    "Z = 2.576"
   ]
  },
  {
   "cell_type": "code",
   "execution_count": 31,
   "id": "f1765657",
   "metadata": {},
   "outputs": [],
   "source": [
    "CI_upper = x_mean + (Z * S/np.sqrt(n))\n",
    "CI_lower = x_mean - (Z * S/np.sqrt(n))"
   ]
  },
  {
   "cell_type": "code",
   "execution_count": 32,
   "id": "128cd1eb",
   "metadata": {},
   "outputs": [
    {
     "name": "stdout",
     "output_type": "stream",
     "text": [
      "So the confidence Interval is: Durability_of_Printer_Heads     1.114546\n",
      "dtype: float64 to Durability_of_Printer_Heads     1.362788\n",
      "dtype: float64\n"
     ]
    }
   ],
   "source": [
    "print(f'So the confidence Interval is: {CI_lower} to {CI_upper}')"
   ]
  },
  {
   "cell_type": "code",
   "execution_count": null,
   "id": "7b3d4cfb",
   "metadata": {},
   "outputs": [],
   "source": []
  }
 ],
 "metadata": {
  "kernelspec": {
   "display_name": "Python 3 (ipykernel)",
   "language": "python",
   "name": "python3"
  },
  "language_info": {
   "codemirror_mode": {
    "name": "ipython",
    "version": 3
   },
   "file_extension": ".py",
   "mimetype": "text/x-python",
   "name": "python",
   "nbconvert_exporter": "python",
   "pygments_lexer": "ipython3",
   "version": "3.9.13"
  }
 },
 "nbformat": 4,
 "nbformat_minor": 5
}
